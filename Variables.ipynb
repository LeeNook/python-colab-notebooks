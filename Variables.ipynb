{
  "nbformat": 4,
  "nbformat_minor": 0,
  "metadata": {
    "colab": {
      "provenance": [],
      "authorship_tag": "ABX9TyNA2vKcBfEJH7iUbCqB4YUI",
      "include_colab_link": true
    },
    "kernelspec": {
      "name": "python3",
      "display_name": "Python 3"
    },
    "language_info": {
      "name": "python"
    }
  },
  "cells": [
    {
      "cell_type": "markdown",
      "metadata": {
        "id": "view-in-github",
        "colab_type": "text"
      },
      "source": [
        "<a href=\"https://colab.research.google.com/github/LeeNook/python-colab-notebooks/blob/main/Variables.ipynb\" target=\"_parent\"><img src=\"https://colab.research.google.com/assets/colab-badge.svg\" alt=\"Open In Colab\"/></a>"
      ]
    },
    {
      "cell_type": "code",
      "source": [
        "x = 22\n",
        "print(x)"
      ],
      "metadata": {
        "id": "mu9nuSBuE19X",
        "colab": {
          "base_uri": "https://localhost:8080/"
        },
        "outputId": "eb30b6f9-b473-4a64-c663-959b9c91f98b"
      },
      "execution_count": 22,
      "outputs": [
        {
          "output_type": "stream",
          "name": "stdout",
          "text": [
            "22\n"
          ]
        }
      ]
    },
    {
      "cell_type": "code",
      "source": [
        "type(x)"
      ],
      "metadata": {
        "id": "QdN0QgxmE8cX",
        "colab": {
          "base_uri": "https://localhost:8080/"
        },
        "outputId": "b89851e8-1fd1-4085-c0b2-2c6a6a59c8f8"
      },
      "execution_count": 23,
      "outputs": [
        {
          "output_type": "execute_result",
          "data": {
            "text/plain": [
              "int"
            ]
          },
          "metadata": {},
          "execution_count": 23
        }
      ]
    },
    {
      "cell_type": "code",
      "source": [
        "y = \"Kritamet Pechraksa\"\n",
        "print(y)"
      ],
      "metadata": {
        "id": "F8EPmu3mFDGr",
        "colab": {
          "base_uri": "https://localhost:8080/"
        },
        "outputId": "4fb291eb-5780-4045-a5d7-224ea0fe97e9"
      },
      "execution_count": 24,
      "outputs": [
        {
          "output_type": "stream",
          "name": "stdout",
          "text": [
            "Kritamet Pechraksa\n"
          ]
        }
      ]
    },
    {
      "cell_type": "code",
      "source": [
        "y=\"Marin\""
      ],
      "metadata": {
        "id": "7s4nW5eZvEkM"
      },
      "execution_count": 25,
      "outputs": []
    },
    {
      "cell_type": "code",
      "source": [
        "type(y)\n",
        "print(y)"
      ],
      "metadata": {
        "colab": {
          "base_uri": "https://localhost:8080/"
        },
        "id": "RvSseG-vu0yh",
        "outputId": "fd76688a-efb0-4e47-e810-dbc704eb9f88"
      },
      "execution_count": 26,
      "outputs": [
        {
          "output_type": "stream",
          "name": "stdout",
          "text": [
            "Marin\n"
          ]
        }
      ]
    },
    {
      "cell_type": "code",
      "source": [
        "y = \"Chocolate\"\n",
        "Y = \"Mint Chocolate Chip\"\n",
        "print(y)"
      ],
      "metadata": {
        "colab": {
          "base_uri": "https://localhost:8080/"
        },
        "id": "jUb6knP9wFjj",
        "outputId": "f6025aea-62fa-4ef9-fc18-2d82ddcb09ce"
      },
      "execution_count": 27,
      "outputs": [
        {
          "output_type": "stream",
          "name": "stdout",
          "text": [
            "Chocolate\n"
          ]
        }
      ]
    },
    {
      "cell_type": "code",
      "source": [
        "x,y,z = \"Chocolate\" , \"Vanilla\" , \"ケーキ\"\n",
        "print(x)\n",
        "print(y)\n",
        "print(z)"
      ],
      "metadata": {
        "colab": {
          "base_uri": "https://localhost:8080/"
        },
        "id": "1MuZAUQWwFwb",
        "outputId": "a20e850e-25e0-4199-c868-c78954e1f4b2"
      },
      "execution_count": 33,
      "outputs": [
        {
          "output_type": "stream",
          "name": "stdout",
          "text": [
            "Chocolate\n",
            "Vanilla\n",
            "ケーキ\n"
          ]
        }
      ]
    },
    {
      "cell_type": "code",
      "source": [
        "x=y=z = 'coca cola'\n",
        "print(x,y,z)\n",
        "print('...')\n",
        "print(x)\n",
        "print(y)\n",
        "print(z)\n"
      ],
      "metadata": {
        "colab": {
          "base_uri": "https://localhost:8080/"
        },
        "id": "oMnH0j_LwF4G",
        "outputId": "7e5e8b69-32f5-40cd-a08d-bfba04326354"
      },
      "execution_count": 36,
      "outputs": [
        {
          "output_type": "stream",
          "name": "stdout",
          "text": [
            "coca cola coca cola coca cola\n",
            "...\n",
            "coca cola\n",
            "coca cola\n",
            "coca cola\n"
          ]
        }
      ]
    },
    {
      "cell_type": "code",
      "source": [
        "ice_cream = [\"Chocolate\" , \"Vanilla\" , \"ケーキ\"]\n",
        "x,y,z = ice_cream\n",
        "print(x)\n",
        "print(y)\n",
        "print(z)\n"
      ],
      "metadata": {
        "colab": {
          "base_uri": "https://localhost:8080/"
        },
        "id": "r2G0-mQ-wF6k",
        "outputId": "46eb58a5-2487-4d09-d28b-ea3faa4d9dfb"
      },
      "execution_count": 37,
      "outputs": [
        {
          "output_type": "stream",
          "name": "stdout",
          "text": [
            "Chocolate\n",
            "Vanilla\n",
            "ケーキ\n"
          ]
        }
      ]
    },
    {
      "cell_type": "code",
      "source": [
        "Black_Coffee = 2004\n",
        "Chocolate_Cake = 2004\n",
        "Strawberry_Cake = 2004\n",
        "チョコレート＿アスクリーン = 2004\n"
      ],
      "metadata": {
        "id": "smUSslKBwF_g"
      },
      "execution_count": 43,
      "outputs": []
    },
    {
      "cell_type": "code",
      "source": [
        "# Camel Case\n",
        "\n",
        "# Test variable Case\n",
        "\n",
        "testVariableCase = 'Vanilla '\n",
        "\n",
        "# Camel Case  (The first word is small , the next word is big.)\n",
        "#Camel case is often used with variable and function."
      ],
      "metadata": {
        "id": "8hrrCWQcwF86"
      },
      "execution_count": 41,
      "outputs": []
    },
    {
      "cell_type": "code",
      "source": [
        "# Pascal Case\n",
        "\n",
        "# Test variable Case\n",
        "\n",
        "TestVariableCase = 'Vanilla '\n",
        "\n",
        "# Capitalize all word (including the first word.)\n",
        "#Pascal Case is commonly used with class,struct,module and component."
      ],
      "metadata": {
        "id": "vlVd5t580a_w"
      },
      "execution_count": 40,
      "outputs": []
    },
    {
      "cell_type": "code",
      "source": [
        "# Snake Case\n",
        "\n",
        "# Test variable Case\n",
        "\n",
        "test_variable_case = 'Vanilla '\n",
        "\n",
        "# All letter are lowercase.\n",
        "#This case commonly used with variable and function.\n",
        "#But I really like snake case because it is easy to read and understand. ***"
      ],
      "metadata": {
        "id": "5t0_1SVkwGFG"
      },
      "execution_count": 39,
      "outputs": []
    },
    {
      "cell_type": "code",
      "source": [
        "testvar = 'チョコレート＿ケーキ'\n",
        "test_var = 'チョコレート＿ケーキ'\n",
        "_test_var = 'チョコレート＿ケーキ'\n",
        "testVar = 'チョコレート＿ケーキ'\n",
        "TestVar = 'チョコレート＿ケーキ'\n",
        "testVar2 = 'チョコレート＿ケーキ'"
      ],
      "metadata": {
        "id": "cS4_8L3cwGMa"
      },
      "execution_count": 38,
      "outputs": []
    },
    {
      "cell_type": "code",
      "source": [
        "# You shouldn't name variable like that.!!!\n",
        "\n",
        "'''\n",
        "2testVar = 'チョコレート＿ケーキ'\n",
        "test-Var2 = 'チョコレート＿ケーキ'\n",
        "test Var2 = 'チョコレート＿ケーキ'\n",
        "test,Var2 = 'チョコレート＿ケーキ'\n",
        "'''"
      ],
      "metadata": {
        "colab": {
          "base_uri": "https://localhost:8080/",
          "height": 35
        },
        "id": "vWyWuKw09Ch1",
        "outputId": "2cb41eea-d6ac-4796-c17d-ce122c49449f"
      },
      "execution_count": 44,
      "outputs": [
        {
          "output_type": "execute_result",
          "data": {
            "text/plain": [
              "\"\\n2testVar = 'チョコレート＿ケーキ'\\ntest-Var2 = 'チョコレート＿ケーキ'\\ntest Var2 = 'チョコレート＿ケーキ'\\ntest,Var2 = 'チョコレート＿ケーキ'\\n\""
            ],
            "application/vnd.google.colaboratory.intrinsic+json": {
              "type": "string"
            }
          },
          "metadata": {},
          "execution_count": 44
        }
      ]
    },
    {
      "cell_type": "code",
      "source": [
        "x = 'Ice cream is my favorite' + 2\n",
        "print(x)"
      ],
      "metadata": {
        "colab": {
          "base_uri": "https://localhost:8080/",
          "height": 158
        },
        "id": "FPT8rJa993Rq",
        "outputId": "855a07fd-1b40-4d84-e465-f6ac61f981e7"
      },
      "execution_count": 49,
      "outputs": [
        {
          "output_type": "error",
          "ename": "TypeError",
          "evalue": "can only concatenate str (not \"int\") to str",
          "traceback": [
            "\u001b[0;31m---------------------------------------------------------------------------\u001b[0m",
            "\u001b[0;31mTypeError\u001b[0m                                 Traceback (most recent call last)",
            "\u001b[0;32m/tmp/ipython-input-49-1805917126.py\u001b[0m in \u001b[0;36m<cell line: 0>\u001b[0;34m()\u001b[0m\n\u001b[0;32m----> 1\u001b[0;31m \u001b[0mx\u001b[0m \u001b[0;34m=\u001b[0m \u001b[0;34m'Ice cream is my favorite'\u001b[0m \u001b[0;34m+\u001b[0m \u001b[0;36m2\u001b[0m\u001b[0;34m\u001b[0m\u001b[0;34m\u001b[0m\u001b[0m\n\u001b[0m\u001b[1;32m      2\u001b[0m \u001b[0mprint\u001b[0m\u001b[0;34m(\u001b[0m\u001b[0mx\u001b[0m\u001b[0;34m)\u001b[0m\u001b[0;34m\u001b[0m\u001b[0;34m\u001b[0m\u001b[0m\n",
            "\u001b[0;31mTypeError\u001b[0m: can only concatenate str (not \"int\") to str"
          ]
        }
      ]
    },
    {
      "cell_type": "code",
      "source": [
        "y = 3 + 2\n",
        "print(y)"
      ],
      "metadata": {
        "colab": {
          "base_uri": "https://localhost:8080/"
        },
        "id": "p9gRlQD7-5ey",
        "outputId": "818264c5-94c0-4a5c-d6c8-ed8e33d668d5"
      },
      "execution_count": 50,
      "outputs": [
        {
          "output_type": "stream",
          "name": "stdout",
          "text": [
            "5\n"
          ]
        }
      ]
    },
    {
      "cell_type": "code",
      "source": [
        "x = ' Ice cream'\n",
        "y =  ' is'\n",
        "z = ' my favorite.'\n",
        "print(x+y+z)"
      ],
      "metadata": {
        "colab": {
          "base_uri": "https://localhost:8080/"
        },
        "id": "kjANf4zs_Kgy",
        "outputId": "d4a9ece6-3f49-4909-ef56-282475c28b6e"
      },
      "execution_count": 54,
      "outputs": [
        {
          "output_type": "stream",
          "name": "stdout",
          "text": [
            " Ice cream is my favorite.\n"
          ]
        }
      ]
    },
    {
      "cell_type": "code",
      "source": [
        "x = 1\n",
        "y =  2\n",
        "z = 3\n",
        "print(x+y+z)"
      ],
      "metadata": {
        "colab": {
          "base_uri": "https://localhost:8080/"
        },
        "id": "i3j8iwX-_KwG",
        "outputId": "0f567ee4-4846-4e7b-fc04-0f1830c19baa"
      },
      "execution_count": 55,
      "outputs": [
        {
          "output_type": "stream",
          "name": "stdout",
          "text": [
            "6\n"
          ]
        }
      ]
    },
    {
      "cell_type": "code",
      "source": [
        "x = 'Ice cream'\n",
        "y =  2\n",
        "print(x+y)"
      ],
      "metadata": {
        "colab": {
          "base_uri": "https://localhost:8080/",
          "height": 176
        },
        "id": "_mF6qpYl_Ky6",
        "outputId": "c0b6558a-c60a-4897-b895-be2eed92fb40"
      },
      "execution_count": 56,
      "outputs": [
        {
          "output_type": "error",
          "ename": "TypeError",
          "evalue": "can only concatenate str (not \"int\") to str",
          "traceback": [
            "\u001b[0;31m---------------------------------------------------------------------------\u001b[0m",
            "\u001b[0;31mTypeError\u001b[0m                                 Traceback (most recent call last)",
            "\u001b[0;32m/tmp/ipython-input-56-506019521.py\u001b[0m in \u001b[0;36m<cell line: 0>\u001b[0;34m()\u001b[0m\n\u001b[1;32m      1\u001b[0m \u001b[0mx\u001b[0m \u001b[0;34m=\u001b[0m \u001b[0;34m'Ice cream'\u001b[0m\u001b[0;34m\u001b[0m\u001b[0;34m\u001b[0m\u001b[0m\n\u001b[1;32m      2\u001b[0m \u001b[0my\u001b[0m \u001b[0;34m=\u001b[0m  \u001b[0;36m2\u001b[0m\u001b[0;34m\u001b[0m\u001b[0;34m\u001b[0m\u001b[0m\n\u001b[0;32m----> 3\u001b[0;31m \u001b[0mprint\u001b[0m\u001b[0;34m(\u001b[0m\u001b[0mx\u001b[0m\u001b[0;34m+\u001b[0m\u001b[0my\u001b[0m\u001b[0;34m)\u001b[0m\u001b[0;34m\u001b[0m\u001b[0;34m\u001b[0m\u001b[0m\n\u001b[0m",
            "\u001b[0;31mTypeError\u001b[0m: can only concatenate str (not \"int\") to str"
          ]
        }
      ]
    },
    {
      "cell_type": "code",
      "source": [
        "x = 'Ice cream'\n",
        "y =  2\n",
        "print(x,y)"
      ],
      "metadata": {
        "colab": {
          "base_uri": "https://localhost:8080/"
        },
        "id": "8nSZCf_S_K1e",
        "outputId": "24bb46b6-41b2-4675-fef7-a9a9e2e2c731"
      },
      "execution_count": 57,
      "outputs": [
        {
          "output_type": "stream",
          "name": "stdout",
          "text": [
            "Ice cream 2\n"
          ]
        }
      ]
    },
    {
      "cell_type": "code",
      "source": [],
      "metadata": {
        "id": "wHkkYQtC_K62"
      },
      "execution_count": null,
      "outputs": []
    },
    {
      "cell_type": "code",
      "source": [],
      "metadata": {
        "id": "7URMcZO9_K9O"
      },
      "execution_count": null,
      "outputs": []
    }
  ]
}